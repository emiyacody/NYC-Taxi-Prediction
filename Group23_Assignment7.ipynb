{
 "cells": [
  {
   "cell_type": "code",
   "execution_count": null,
   "metadata": {},
   "outputs": [],
   "source": [
    "import pandas as pd"
   ]
  },
  {
   "source": [
    "# Pandas categorical 1\n",
    "\n",
    "Split out column entries\n",
    "\n",
    "Load following survey data into a Pandas dataframe called x and note that the top part of the Is there anything in particular you want to use Python for? column looks like the following,\n",
    "```python\n",
    "\tIs there anything in particular you want to use Python for?\n",
    "ID\t\n",
    "3931\tData extraction and processing, Data analytics...\n",
    "4205\tData extraction and processing\n",
    "3669\tData analytics, Machine learning, Statistical ...\n",
    "1452\tData extraction and processing, Data analytics...\n",
    "2968\tNumerical processing, Data analytics, Machine ...\n",
    "```\n",
    "The problem with this column is that there are multiple comma-separated values in it. Please write a Python function called ```split_count``` that can take this column as input and output the following Pandas dataframe.\n",
    "```python\n",
    "\tcount\n",
    "All of the above\t1\n",
    "Computer vision\t1\n",
    "Image Processing\t1\n",
    "Computer vision/image processing\t1\n",
    "As a general skill\t1\n",
    "scripting seems desirable for many jobs\t1\n",
    "not sure\t1\n",
    "Computer Vision\t1\n",
    "EDA tools\t1\n",
    "Web development\t104\n",
    "Numerical processing\t173\n",
    "Scientific visualization\t198\n",
    "Statistical analysis\t222\n",
    "Data extraction and processing\t291\n",
    "Data analytics\t351\n",
    "Machine learning\t381\n",
    "```\n",
    "Here is the function signature: ```split_count(x)``` where x is a pd.Series object and it returns a pd.DataFrame object.\n"
   ],
   "cell_type": "markdown",
   "metadata": {}
  },
  {
   "source": [
    "### Validation Tests\n",
    "Check for corner cases and constraints in the inputs enlist all cases used for testing"
   ],
   "cell_type": "markdown",
   "metadata": {}
  },
  {
   "cell_type": "code",
   "execution_count": null,
   "metadata": {},
   "outputs": [],
   "source": [
    "assert isinstance(x, pd.Series)"
   ]
  },
  {
   "source": [
    "### Functional Tests\n",
    "Check function output matches expected result enlist all cases used for testing"
   ],
   "cell_type": "markdown",
   "metadata": {}
  },
  {
   "cell_type": "code",
   "execution_count": null,
   "metadata": {},
   "outputs": [],
   "source": [
    "data = [['All of the above', 1], ['Computer vision', 1], ['Image Processing', 1],['Computer vision/image processing', 1],['As a general skill', 1],['scripting seems desirable for many jobs', 1],['not sure', 1],['Computer Vision',1],['EDA tools', 1],['Web development', 104],['Numerical processing', 173],['Scientific visualization',198],['Statistical analysis', 222],['Data extraction and processing', 291],['Data analytics', 351],['Machine learning',381]]\n",
    "# Create the pandas DataFrame to check\n",
    "df = pd.DataFrame(data, columns=['', 'count'])\n",
    "df.set_index('', inplace=True)\n",
    "assert df.equals(split_count(x))"
   ]
  },
  {
   "source": [
    "# Pandas categorical 2\n",
    "\n",
    "Add a new column using Timestamp column\n",
    "\n",
    "Using the same survey dataframe from before, create a dataframe column month-yr with ID as row-index like the following,\n",
    "```python\n",
    "\tmonth-yr\n",
    "ID\t\n",
    "3931\tSep-2017\n",
    "4205\tSep-2017\n",
    "...\t...\n",
    "2524\tJan-2019\n",
    "```\n",
    "Note that each of the entries is a string. That is, given that your original survey dataframe is x, you should be able to produce the output above from\n",
    "```python\n",
    ">>> x['month-yr'] \n",
    "```\n",
    "Your function ```add_month_yr(x)``` should take in the x survey dataframe and then output the same dataframe with a new month-yr column.\n",
    "Here is the function signature: ```add_month_yr(x)``` where x is a pd.DataFrame and returns the same pd.DataFrame with the new column. This means all you have to do is take the input dataframe and add a single column to it.\n",
    "\n"
   ],
   "cell_type": "markdown",
   "metadata": {}
  },
  {
   "source": [
    "### Validation Tests\n",
    "Check for corner cases and constraints in the inputs enlist all cases used for testing"
   ],
   "cell_type": "markdown",
   "metadata": {}
  },
  {
   "cell_type": "code",
   "execution_count": null,
   "metadata": {},
   "outputs": [],
   "source": [
    "assert isinstance(x, pd.DataFrame)"
   ]
  },
  {
   "source": [
    "### Functional Tests\n",
    "Check function output matches expected result enlist all cases used for testing"
   ],
   "cell_type": "markdown",
   "metadata": {}
  },
  {
   "cell_type": "code",
   "execution_count": null,
   "metadata": {},
   "outputs": [],
   "source": [
    "assert set('month-yr').issubset(x.columns) and x['month-yr'].dtypes == str\n",
    "assert pd.to_datetime(x['month-yr'], format='%b-%Y').notnull().all()"
   ]
  },
  {
   "source": [
    "# Pandas categorical 3\n",
    "\n",
    "\n",
    "Count by new month-yr column\n",
    "\n",
    "Write a function count_month_yr to create the following dataframe using your new column month-yr,\n",
    "\n",
    "|                   |      Timestamp     |   |   |   |\n",
    "|-------------------|--------------------|---|---|---|\n",
    "|      month-yr     |                    |   |   |   |\n",
    "|     Apr-2018      |     28             |   |   |   |\n",
    "|     Feb-2018      |     2              |   |   |   |\n",
    "|     Jan-2018      |     148            |   |   |   |\n",
    "|     Jan-2019      |     57             |   |   |   |\n",
    "|     Mar-2018      |     41             |   |   |   |\n",
    "|     Oct-2018      |     6              |   |   |   |\n",
    "|     Sep-2017      |     74             |   |   |   |\n",
    "|     Sep-2018      |     130            |   |   |   |\n",
    "\n",
    "\n",
    "Notice that the order of the dates is incorrect. We will fix that later. Remember to include your add_month_yr code from the previous part, as your new function needs the output from it.\n",
    "Here is the function signature: \n",
    "```python \n",
    "count_month_yr(x) #where x is a pd.DataFrame that returns a pd.DataFrame.\n",
    "```\n",
    "\n"
   ],
   "cell_type": "markdown",
   "metadata": {}
  },
  {
   "cell_type": "markdown",
   "metadata": {},
   "source": [
    "### Validation Tests\n",
    "Check for corner cases and constraints in the inputs enlist all cases used for testing"
   ]
  },
  {
   "cell_type": "code",
   "execution_count": null,
   "metadata": {},
   "outputs": [],
   "source": [
    "assert isinstance(x, pd.DataFrame)"
   ]
  },
  {
   "cell_type": "markdown",
   "metadata": {},
   "source": [
    "### Functional Tests\n",
    "Check function output matches expected result enlist all cases used for testing"
   ]
  },
  {
   "cell_type": "code",
   "execution_count": null,
   "metadata": {},
   "outputs": [],
   "source": [
    "data = [['Apr-2018', 28], ['Feb-2018', 2], ['Jan-2018', 148],['Jan-2019', 57],['Mar-2018', 41],['Oct-2018', 6],['Sep-2017', 74],['Sep-2018',130]]\n",
    "# Create the pandas DataFrame to check\n",
    "df = pd.DataFrame(data, columns=['month-yr', 'Timestamp'])\n",
    "df.set_index('month-yr', inplace=True)\n",
    "assert df.equals(count_month_yr(add_month_yr(x))), \"Checking if the output matches the required output\""
   ]
  },
  {
   "cell_type": "markdown",
   "metadata": {},
   "source": [
    "# Pandas categorical 4\n",
    "\n",
    "Fix the order computed in function count_month_yr to create the right order of following dataframe using your new column month-yr, and \n",
    "expect to reproduce the same outcome\n",
    "```\n",
    ">>> x.groupby('month-yr')['Timestamp'].count().to_frame().sort_index() \n",
    "\n",
    "|                   |      Timestamp     |   |   |   |\n",
    "|-------------------|--------------------|---|---|---|\n",
    "|      month-yr     |                    |   |   |   |\n",
    "|     Sep-2017      |     74             |   |   |   |\n",
    "|     Jan-2018      |     148              |   |   |   |\n",
    "|     Feb-2018      |     2            |   |   |   |\n",
    "|     Mar-2018      |     41             |   |   |   |\n",
    "|     Apr-2018      |     28             |   |   |   |\n",
    "|     Sep-2018      |     130              |   |   |   |\n",
    "|     Oct-2018      |     6             |   |   |   |\n",
    "|     Jan-2019      |     57            |   |   |   |\n",
    "\n",
    "```\n",
    "Note you have to change the column 'month-yr' to Category type to achieve sorted function. Remember to include your ```add_month_yr``` code from the previous part, as your new function needs the output from it.\n",
    "Here is the function signature: \n",
    "``` \n",
    "fix_categorical(x) #where x is a pd.DataFrame that returns a pd.DataFrame.\n",
    "\n"
   ]
  },
  {
   "cell_type": "markdown",
   "metadata": {},
   "source": [
    "### Validation Tests\n",
    "Check for corner cases and constraints in the inputs enlist all cases used for testing"
   ]
  },
  {
   "cell_type": "code",
   "execution_count": null,
   "metadata": {},
   "outputs": [],
   "source": [
    "assert isinstance(x, pd.Dataframe)"
   ]
  },
  {
   "cell_type": "markdown",
   "metadata": {},
   "source": [
    "### Functional Tests\n",
    "Check function output matches expected result enlist all cases used for testing"
   ]
  },
  {
   "cell_type": "code",
   "execution_count": null,
   "metadata": {},
   "outputs": [],
   "source": [
    "index = ['Sep-2017','Jan-2018','Feb-2018','Mar-2018','Apr-2018','Sep-2018','Oct-2018','Jan-2019']\n",
    "number = [74,148,2,41,28,130,6,57]\n",
    "df = pd.DataFrame(number,index=index,columns=['Timestamp'])\n",
    "df.index.name='month-yr'\n",
    "new_x = fix_categorical(add_month_yr(x))\n",
    "exp_out = new_x.groupby('month-yr')['Timestamp'].count().to_frame().sort_index()\n",
    "assert df.equals(exp_out)\n",
    "cat_code = [0,1,2,3,4,5,6,7]\n",
    "assert all(cat_code == exp_out.index.codes)"
   ]
  },
  {
   "source": [
    "# Rational Numbers\n",
    "\n",
    "Implement a class of rational numbers (ratio of integers) with the following interfaces and behaviours\n",
    "\n",
    "```\n",
    ">>> r = Rational(3,4)\n",
    " >>> repr(r)\n",
    " '3/4'\n",
    " >>> -1/r\n",
    " -4/3\n",
    " >>> float(-1/r)\n",
    " -1.3333333333333333\n",
    " >>> int(r)\n",
    " 0\n",
    " >>> int(Rational(10,3))\n",
    " 3\n",
    " >>> Rational(10,3) * Rational(101,8) - Rational(11,8)\n",
    " 977/24\n",
    " >>> sorted([Rational(10,3),Rational(9,8), Rational(10,1), Rational(1,100)])\n",
    " [1/100, 9/8, 10/3, 10]\n",
    " >>> Rational(100,10)\n",
    " 10\n",
    " >>> -Rational(12345,128191) + Rational(101,103) * 30/ 44\n",
    " 166235595/290480806\n",
    "```\n"
   ],
   "cell_type": "markdown",
   "metadata": {}
  },
  {
   "source": [
    "### Validation Tests\n",
    "Check for corner cases and constraints in the inputs enlist all cases used for testing"
   ],
   "cell_type": "markdown",
   "metadata": {}
  },
  {
   "cell_type": "code",
   "execution_count": null,
   "metadata": {},
   "outputs": [],
   "source": [
    "from reference import Rational_Ref\n",
    "from functions import Rational\n",
    "import random\n",
    "\n",
    "#provided tests\n",
    "r = Rational(3,4)\n",
    "r_ref = Rational_Ref(3,4)\n",
    "assert repr(r) == repr(r_ref)\n",
    "\n",
    "r = -1/r\n",
    "r_ref = -1/r_ref\n",
    "assert float(r) == float(r_ref)\n",
    "\n",
    "r = Rational(3,4)\n",
    "r_ref = Rational_Ref(3,4)\n",
    "assert int(r) == int(r_ref)\n",
    "\n",
    "r = Rational(10, 3)\n",
    "r_ref = Rational_Ref(10, 3)\n",
    "assert int(r) == int(r_ref)\n",
    "\n",
    "r = Rational(10,3) * Rational(101,8) - Rational(11,8)\n",
    "r_ref = Rational_Ref(10,3) * Rational_Ref(101,8) - Rational_Ref(11,8)\n",
    "assert repr(r) == repr(r_ref)\n",
    "\n",
    "r = sorted([Rational(10,3),Rational(9,8), Rational(10,1), Rational(1,100)])\n",
    "r_ref = sorted([Rational_Ref(10,3),Rational_Ref(9,8), Rational_Ref(10,1), Rational_Ref(1,100)])\n",
    "for i in range(len(r)):\n",
    "    assert repr(r[i]) == repr(r_ref[i])\n",
    "\n",
    "r = Rational(100,10)\n",
    "r_ref = Rational_Ref(100,10)\n",
    "assert repr(r) == repr(r_ref)\n",
    "\n",
    "r = -Rational(12345,128191) + Rational(101,103) * 30/ 44\n",
    "r_ref = -Rational_Ref(12345,128191) + Rational_Ref(101,103) * 30/ 44\n",
    "assert repr(r) == repr(r_ref)\n"
   ]
  },
  {
   "source": [
    "### Functional Tests\n",
    "Check function output matches expected result enlist all cases used for testing"
   ],
   "cell_type": "markdown",
   "metadata": {}
  },
  {
   "cell_type": "code",
   "execution_count": null,
   "metadata": {},
   "outputs": [],
   "source": [
    "#These tests could result in assertion errors if there is a check that b != 0\n",
    "\n",
    "#test add\n",
    "for i in range(1000):\n",
    "    a0 = random.randint(-10000,10000)\n",
    "    b0 = random.randint(-10000,10000)\n",
    "    a1 = random.randint(-10000,10000)\n",
    "    b1 = random.randint(-10000,10000)\n",
    "    r = Rational(a0, b0) + Rational(a1,b1)\n",
    "    r_ref = Rational_Ref(a0, b0) + Rational_Ref(a1,b1)\n",
    "    assert repr(r) == repr(r_ref)\n",
    "\n",
    "#test sub\n",
    "for i in range(1000):\n",
    "    a0 = random.randint(-10000,10000)\n",
    "    b0 = random.randint(-10000,10000)\n",
    "    a1 = random.randint(-10000,10000)\n",
    "    b1 = random.randint(-10000,10000)\n",
    "    r = Rational(a0, b0) - Rational(a1,b1)\n",
    "    r_ref = Rational_Ref(a0, b0) - Rational_Ref(a1,b1)\n",
    "    assert repr(r) == repr(r_ref)\n",
    "\n",
    "#test mul\n",
    "for i in range(1000):\n",
    "    a0 = random.randint(-10000,10000)\n",
    "    b0 = random.randint(-10000,10000)\n",
    "    a1 = random.randint(-10000,10000)\n",
    "    b1 = random.randint(-10000,10000)\n",
    "    r = Rational(a0, b0) * Rational(a1,b1)\n",
    "    r_ref = Rational_Ref(a0, b0) * Rational_Ref(a1,b1)\n",
    "    assert repr(r) == repr(r_ref)\n",
    "\n",
    "#test div\n",
    "for i in range(1000):\n",
    "    a0 = random.randint(-10000,10000)\n",
    "    b0 = random.randint(-10000,10000)\n",
    "    a1 = random.randint(-10000,10000)\n",
    "    b1 = random.randint(-10000,10000)\n",
    "    r = Rational(a0, b0) / Rational(a1,b1)\n",
    "    r_ref = Rational_Ref(a0, b0) / Rational_Ref(a1,b1)\n",
    "    assert repr(r) == repr(r_ref)\n"
   ]
  },
  {
   "cell_type": "markdown",
   "metadata": {},
   "source": [
    "# Rational Square Root\n",
    "\n",
    "Using your Rational class for representing rational numbers, write a function square_root_rational which takes an input rational number x and returns the square root of x to absolute precision abs_tol. Your function should return a Rational number instance as output. Here is an example,\n",
    "\n",
    "```python\n",
    ">>> square_root_rational(Rational(1112,3),abs_tol=Rational(1,1000)) # output is `Rational` instance\n",
    "10093849/524288\n",
    "```\n",
    "\n",
    "Here is your function signature: \n",
    "```python\n",
    "square_root_rational(x,abs_tol=Rational(1,1000))\n",
    "```\n",
    "Hint: Use the bisection algorithm to compute the square root.\n"
   ]
  },
  {
   "cell_type": "markdown",
   "metadata": {},
   "source": [
    "Rational class definied in the previous problem:\n",
    "\n",
    "```python\n",
    "class Rational(object):\n",
    "    def __init__(self, a, b):\n",
    "        \"\"\"\n",
    "        :a: integer\n",
    "        :b: integer\n",
    "        \"\"\"\n",
    "        assert b != 0\n",
    "        assert isinstance(a, int)\n",
    "        assert isinstance(b, int)\n",
    "        self._a = a\n",
    "        self._b = b\n",
    "\n",
    "    def __repr__(self):\n",
    "        pass\n",
    "\n",
    "    def __mul__(self, other):\n",
    "        pass\n",
    "\n",
    "    def __sub__(self, other):\n",
    "        pass\n",
    "\n",
    "    def __int__(self):\n",
    "        pass\n",
    "\n",
    "    def __add__(self, other):\n",
    "        pass\n",
    "\n",
    "    def __truediv__(self, other):\n",
    "        pass\n",
    "\n",
    "    def __rtruediv__(self, other):\n",
    "        pass\n",
    "\n",
    "        return self\n",
    "    def __radd__(self, other):\n",
    "        pass\n",
    "\n",
    "    def __float__(self):\n",
    "        pass\n",
    "\n",
    "    def __lt__(self, other):\n",
    "        pass\n",
    "\n",
    "    def __gt__(self, other):\n",
    "        pass\n",
    "\n",
    "    def __eq__(self, other):\n",
    "        pass\n",
    "\n",
    "    def __neg__(self):\n",
    "        pass\n",
    "\n",
    "```"
   ]
  },
  {
   "cell_type": "markdown",
   "metadata": {},
   "source": [
    "### Validation Tests\n",
    "Check for corner cases and constraints in the inputs enlist all cases used for testing"
   ]
  },
  {
   "cell_type": "code",
   "execution_count": null,
   "metadata": {},
   "outputs": [],
   "source": [
    "import math\n",
    "assert isinstance(x, Rational), \"the given x should be an instance of Rational\"\n",
    "assert x._a/x._b >= 0, \"the rational number(to compute square root) should be positive\"\n",
    "\n",
    "assert isinstance(abs_tol, Rational), \"the given tolerance should be an instance of Rational\"\n",
    "assert abs_tol._a/abs_tol._b >= 0, \"the rational number abs_tol > 0\""
   ]
  },
  {
   "cell_type": "code",
   "execution_count": null,
   "metadata": {},
   "outputs": [],
   "source": [
    "'''\n",
    "In case rational number class doesn't check the integer and denominatior!=0 constraints\n",
    "'''\n",
    "#assert isinstance(x._a, int), \"the numerator must be an integer\"\n",
    "#assert isinstance(x._b, int), \"the denominator must be an integer\"\n",
    "#assert x._b != 0, \"the denominator must not be zero\"\n",
    "\n",
    "#assert isinstance(abs_tol._a, int), \"the numerator must be an integer\"\n",
    "#assert isinstance(abs_tol._b, int), \"the denominator must be an integer\"\n",
    "#assert abs_tol._b != 0, \"the denominator must not be zero\""
   ]
  },
  {
   "cell_type": "markdown",
   "metadata": {},
   "source": [
    "### Functional Tests\n",
    "Check function output matches expected result enlist all cases used for testing"
   ]
  },
  {
   "cell_type": "code",
   "execution_count": null,
   "metadata": {},
   "outputs": [],
   "source": [
    "a, b, abs_tol = 0, 5, Rational(1/1000)\n",
    "estimate = square_root_rational(Rational(a, b),abs_tol) # Estimate is 0\n",
    "assert abs(float(estimate) - math.sqrt(float(Rational(a,b))) <= float(abs_tol), \"Case when the number is zero\"\n"
   ]
  },
  {
   "cell_type": "code",
   "execution_count": null,
   "metadata": {},
   "outputs": [],
   "source": [
    "a, b, abs_tol = 1, 3, Rational(1,1000)\n",
    "estimate = square_root_rational(Rational(a, b),abs_tol) # One possible estimate 32768/98307\n",
    "assert abs(float(estimate) - math.sqrt(float(Rational(a,b))) <= float(abs_tol), \"Case where number is less than 1 and greater than 0\"\n"
   ]
  },
  {
   "cell_type": "code",
   "execution_count": null,
   "metadata": {},
   "outputs": [],
   "source": [
    "a, b, abs_tol = 3, 3, Rational(1,100)\n",
    "estimate = square_root_rational(Rational(a, b),abs_tol) # One possible estimate 255/256\n",
    "assert abs(float(estimate) - math.sqrt(float(Rational(a,b))) <= float(abs_tol), \"Case where number is 1\"\n"
   ]
  },
  {
   "cell_type": "code",
   "execution_count": null,
   "metadata": {},
   "outputs": [],
   "source": [
    "a, b, abs_tol = 3, 3, Rational(1,1000)\n",
    "estimate = square_root_rational(Rational(a, b),abs_tol) # One possible estimate 2047/2048\n",
    "assert abs(float(estimate) - math.sqrt(float(Rational(a,b))) <= float(abs_tol), \"Case where number is 1 and tolerance is higher\" \n"
   ]
  },
  {
   "cell_type": "code",
   "execution_count": null,
   "metadata": {},
   "outputs": [],
   "source": [
    "a, b, abs_tol = 1112, 3, Rational(1,1000)\n",
    "estimate = square_root_rational(Rational(a, b),abs_tol) # One possible estimate 20187943/1048576\n",
    "assert abs(float(estimate) - math.sqrt(float(Rational(a,b))) <= float(abs_tol), \"Case when the rational number is greater than 1\"\n"
   ]
  },
  {
   "cell_type": "code",
   "execution_count": null,
   "metadata": {},
   "outputs": [],
   "source": [
    "a, b, abs_tol = 1112, 3, Rational(1,1000000)\n",
    "estimate = square_root_rational(Rational(a, b),abs_tol) # One possible estimate 62017305157/3221225472\n",
    "assert abs(float(estimate) - math.sqrt(float(Rational(a,b))) <= float(abs_tol), \"Case when the rational number is greater than 1 and tolerance is much lower\""
   ]
  },
  {
   "cell_type": "code",
   "execution_count": null,
   "metadata": {},
   "outputs": [],
   "source": [
    "a, b, abs_tol = 145, 1, Rational(1,1000)\n",
    "estimate = square_root_rational(Rational(a, b),abs_tol) # One possible estimate 25253055/2097152\n",
    "assert abs(float(estimate) - math.sqrt(float(Rational(a,b))) <= float(abs_tol), \"case where the rational number is an integer\"\n"
   ]
  },
  {
   "cell_type": "code",
   "execution_count": null,
   "metadata": {},
   "outputs": [],
   "source": [
    "a, b, abs_tol = 9, 3, Rational(9,2)\n",
    "estimate = square_root_rational(Rational(a, b),abs_tol) # estimate is 3/2 (half the given rational number)\n",
    "assert abs(float(estimate) - math.sqrt(float(Rational(a,b))) <= float(abs_tol)), \"case where the tolerance is high and greater than half the given rational number\" \n"
   ]
  },
  {
   "cell_type": "code",
   "execution_count": null,
   "metadata": {},
   "outputs": [],
   "source": [
    "a, b, abs_tol = 1024, 1, Rational(0,1)\n",
    "estimate = square_root_rational(Rational(a, b),abs_tol) # estimate is 32, this case works when a/b is a power of 2 or 0 and is perfect square else assertion error\n",
    "assert abs(float(estimate) - math.sqrt(float(Rational(a,b))) <= float(abs_tol), \"case where the tolerance is zero\"\n"
   ]
  }
 ],
 "metadata": {
  "kernelspec": {
   "display_name": "Python 3",
   "language": "python",
   "name": "python3"
  },
  "language_info": {
   "codemirror_mode": {
    "name": "ipython",
    "version": 3
   },
   "file_extension": ".py",
   "mimetype": "text/x-python",
   "name": "python",
   "nbconvert_exporter": "python",
   "pygments_lexer": "ipython3",
   "version": "3.8.5-final"
  }
 },
 "nbformat": 4,
 "nbformat_minor": 2
}
